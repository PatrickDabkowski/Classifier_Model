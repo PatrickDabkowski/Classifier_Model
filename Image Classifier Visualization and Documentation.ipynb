{
 "cells": [
  {
   "cell_type": "markdown",
   "id": "a202cde8",
   "metadata": {},
   "source": [
    "# Jupyter Notebook Visualisation"
   ]
  },
  {
   "cell_type": "markdown",
   "id": "7033e4cc",
   "metadata": {},
   "source": [
    "## Abstract"
   ]
  },
  {
   "cell_type": "code",
   "execution_count": null,
   "id": "a4671425",
   "metadata": {},
   "outputs": [],
   "source": []
  },
  {
   "cell_type": "markdown",
   "id": "19bb51b3",
   "metadata": {},
   "source": [
    "# Image Classifier and Test"
   ]
  },
  {
   "cell_type": "markdown",
   "id": "740e8fec",
   "metadata": {},
   "source": [
    "# Evaluation Images "
   ]
  },
  {
   "cell_type": "markdown",
   "id": "2161e470",
   "metadata": {},
   "source": [
    "### Importing needed tools"
   ]
  },
  {
   "cell_type": "code",
   "execution_count": 1,
   "id": "47f2e113",
   "metadata": {},
   "outputs": [],
   "source": [
    "import skimage\n",
    "import numpy as np\n",
    "import matplotlib.pyplot as plt"
   ]
  },
  {
   "cell_type": "markdown",
   "id": "6bad05a9",
   "metadata": {},
   "source": [
    "### Creating Test Images"
   ]
  },
  {
   "cell_type": "code",
   "execution_count": 2,
   "id": "cbb26ec3",
   "metadata": {},
   "outputs": [
    {
     "name": "stdout",
     "output_type": "stream",
     "text": [
      "[[  0.   0.   0.   0.   0.   0.   0.   0.   0.   0.   0.   0.   0.   0.\n",
      "    0.   0.   0.   0.   0.   0.   0.   0.   0.   0.   0.   0.   0.   0.]\n",
      " [  0.   0.   0.   0.   0.   0.   0.   0.   0.   0.   0.   0.   0.   0.\n",
      "    0.   0.   0.   0.   0.   0.   0.   0.   0.   0.   0.   0.   0.   0.]\n",
      " [  0.   0.   0.   0.   0.   0.   0.   0.   0.   0.   0.   0.   0.   0.\n",
      "    0.   0.   0.   0.   0.   0.   0.   0.   0.   0.   0.   0.   0.   0.]\n",
      " [  0.   0.   0.   0.   0.   0.   0.   0.   0.   0.   0.   0.   0.   0.\n",
      "    0.   0.   0.   0.   0.   0.   0.   0.   0.   0.   0.   0.   0.   0.]\n",
      " [  0.   0.   0.   0.   0.   0.   0.   0.   0.   0.   0.   0.   0.   0.\n",
      "    0.   0.   0.   0.   0.   0.   0.   0.   0.   0.   0.   0.   0.   0.]\n",
      " [  0.   0.   0.   0.   0.   0.   0.   0.   0.   0.   0.   0.   0.   0.\n",
      "    0.   0.   0.   0.   0.   0.   0.   0.   0.   0.   0.   0.   0.   0.]\n",
      " [  0.   0.   0.   0.   0.   0.   0.   0.   0.   0.   0.   0.   0.   0.\n",
      "  107. 104.   0.   0.   0.   0.   0.   0.   0.   0.   0.   0.   0.   0.]\n",
      " [  0.   0.   0.   0.   0.   0.   0.   0.   0.   0.   0.   0.  90.  90.\n",
      "   90.  91.   0.   0.   0.   0.   0.   0.   0.   0.   0.   0.   0.   0.]\n",
      " [  0.   0.   0.   0.   0.   0.   0.   0.   0.   0.  80.  80.   0.   0.\n",
      "   89.  86.   0.   0.   0.   0.   0.   0.   0.   0.   0.   0.   0.   0.]\n",
      " [  0.   0.   0.   0.   0.   0.   0.   0.  50.  50.   0.   0.   0.   0.\n",
      "  100. 110.   0.   0.   0.   0.   0.   0.   0.   0.   0.   0.   0.   0.]\n",
      " [  0.   0.   0.   0.   0.   0.   0.   0.   0.   0.   0.   0.   0.   0.\n",
      "   93.  82.   0.   0.   0.   0.   0.   0.   0.   0.   0.   0.   0.   0.]\n",
      " [  0.   0.   0.   0.   0.   0.   0.   0.   0.   0.   0.   0.   0.   0.\n",
      "   99.  90.   0.   0.   0.   0.   0.   0.   0.   0.   0.   0.   0.   0.]\n",
      " [  0.   0.   0.   0.   0.   0.   0.   0.   0.   0.   0.   0.   0.   0.\n",
      "  102.  85.   0.   0.   0.   0.   0.   0.   0.   0.   0.   0.   0.   0.]\n",
      " [  0.   0.   0.   0.   0.   0.   0.   0.   0.   0.   0.   0.   0.   0.\n",
      "  108. 103.   0.   0.   0.   0.   0.   0.   0.   0.   0.   0.   0.   0.]\n",
      " [  0.   0.   0.   0.   0.   0.   0.   0.   0.   0.   0.   0.   0.   0.\n",
      "   85.  96.   0.   0.   0.   0.   0.   0.   0.   0.   0.   0.   0.   0.]\n",
      " [  0.   0.   0.   0.   0.   0.   0.   0.   0.   0.   0.   0.   0.   0.\n",
      "   94.  91.   0.   0.   0.   0.   0.   0.   0.   0.   0.   0.   0.   0.]\n",
      " [  0.   0.   0.   0.   0.   0.   0.   0.   0.   0.   0.   0.   0.   0.\n",
      "  101.  84.   0.   0.   0.   0.   0.   0.   0.   0.   0.   0.   0.   0.]\n",
      " [  0.   0.   0.   0.   0.   0.   0.   0.   0.   0.   0.   0.   0.   0.\n",
      "    0.   0.   0.   0.   0.   0.   0.   0.   0.   0.   0.   0.   0.   0.]\n",
      " [  0.   0.   0.   0.   0.   0.   0.   0.   0.   0.   0.   0.   0.   0.\n",
      "    0.   0.   0.   0.   0.   0.   0.   0.   0.   0.   0.   0.   0.   0.]\n",
      " [  0.   0.   0.   0.   0.   0.   0.   0.   0.   0.   0.   0.   0.   0.\n",
      "    0.   0.   0.   0.   0.   0.   0.   0.   0.   0.   0.   0.   0.   0.]\n",
      " [  0.   0.   0.   0.   0.   0.   0.   0.   0.   0.   0.   0.   0.   0.\n",
      "    0.   0.   0.   0.   0.   0.   0.   0.   0.   0.   0.   0.   0.   0.]\n",
      " [  0.   0.   0.   0.   0.   0.   0.   0.   0.   0.   0.   0.   0.   0.\n",
      "    0.   0.   0.   0.   0.   0.   0.   0.   0.   0.   0.   0.   0.   0.]\n",
      " [  0.   0.   0.   0.   0.   0.   0.   0.   0.   0.   0.   0.   0.   0.\n",
      "    0.   0.   0.   0.   0.   0.   0.   0.   0.   0.   0.   0.   0.   0.]\n",
      " [  0.   0.   0.   0.   0.   0.   0.   0.   0.   0.   0.   0.   0.   0.\n",
      "    0.   0.   0.   0.   0.   0.   0.   0.   0.   0.   0.   0.   0.   0.]\n",
      " [  0.   0.   0.   0.   0.   0.   0.   0.   0.   0.   0.   0.   0.   0.\n",
      "    0.   0.   0.   0.   0.   0.   0.   0.   0.   0.   0.   0.   0.   0.]\n",
      " [  0.   0.   0.   0.   0.   0.   0.   0.   0.   0.   0.   0.   0.   0.\n",
      "    0.   0.   0.   0.   0.   0.   0.   0.   0.   0.   0.   0.   0.   0.]\n",
      " [  0.   0.   0.   0.   0.   0.   0.   0.   0.   0.   0.   0.   0.   0.\n",
      "    0.   0.   0.   0.   0.   0.   0.   0.   0.   0.   0.   0.   0.   0.]\n",
      " [  0.   0.   0.   0.   0.   0.   0.   0.   0.   0.   0.   0.   0.   0.\n",
      "    0.   0.   0.   0.   0.   0.   0.   0.   0.   0.   0.   0.   0.   0.]]\n"
     ]
    },
    {
     "data": {
      "text/plain": [
       "<matplotlib.image.AxesImage at 0x11ada9400>"
      ]
     },
     "execution_count": 2,
     "metadata": {},
     "output_type": "execute_result"
    },
    {
     "data": {
      "image/png": "[encoded data removed]",
      "text/plain": [
       "<Figure size 720x432 with 1 Axes>"
      ]
     },
     "metadata": {
      "needs_background": "light"
     },
     "output_type": "display_data"
    }
   ],
   "source": [
    "img_one = np.zeros([28, 28])\n",
    "img_one[ 7:8, 12:16] = 90\n",
    "img_one[ 8:9, 10:12] = 80 \n",
    "img_one[ 9:10, 8:10] = 50 \n",
    "img_one[ 6:17, 14:16] = 110 - np.random.randint(30, size=(11, 2))\n",
    "print(img_one)\n",
    "plt.figure('object', figsize=(10,6))\n",
    "plt.imshow(img_one, cmap='gray')"
   ]
  },
  {
   "cell_type": "code",
   "execution_count": 3,
   "id": "20f20bef",
   "metadata": {},
   "outputs": [
    {
     "name": "stdout",
     "output_type": "stream",
     "text": [
      "[[ 0.  0.  0.  0.  0.  0.  0.  0.  0.  0.  0.  0.  0.  0.  0.  0.  0.  0.\n",
      "   0.  0.  0.  0.  0.  0.  0.  0.  0.  0.]\n",
      " [ 0.  0.  0.  0.  0.  0.  0.  0.  0.  0.  0.  0.  0.  0.  0.  0.  0.  0.\n",
      "   0.  0.  0.  0.  0.  0.  0.  0.  0.  0.]\n",
      " [ 0.  0.  0.  0.  0.  0.  0.  0.  0.  0.  0.  0.  0.  0.  0.  0.  0.  0.\n",
      "   0.  0.  0.  0.  0.  0.  0.  0.  0.  0.]\n",
      " [ 0.  0.  0.  0.  0.  0.  0.  0.  0.  0.  0.  0.  0.  0.  0.  0.  0.  0.\n",
      "   0.  0.  0.  0.  0.  0.  0.  0.  0.  0.]\n",
      " [ 0.  0.  0.  0.  0.  0.  0.  0.  0.  0.  0.  0.  0.  0.  0.  0.  0.  0.\n",
      "   0.  0.  0.  0.  0.  0.  0.  0.  0.  0.]\n",
      " [ 0.  0.  0.  0.  0.  0.  0.  0.  0.  0.  0.  0.  0.  0.  0.  0.  0.  0.\n",
      "   0.  0.  0.  0.  0.  0.  0.  0.  0.  0.]\n",
      " [ 0.  0.  0.  0.  0.  0.  0.  0.  0.  0.  0.  0.  0.  0.  0.  0.  0.  0.\n",
      "   0.  0.  0.  0.  0.  0.  0.  0.  0.  0.]\n",
      " [ 0.  0.  0.  0.  0.  0.  0.  0.  0.  0.  0.  0.  0.  0.  0.  0.  0.  0.\n",
      "   0.  0.  0.  0.  0.  0.  0.  0.  0.  0.]\n",
      " [ 0.  0.  0.  0.  0.  0.  0.  0. 78. 90. 83. 94. 81. 78. 78. 87. 94. 72.\n",
      "  97.  0.  0.  0.  0.  0.  0.  0.  0.  0.]\n",
      " [ 0.  0.  0.  0.  0.  0.  0.  0. 83.  0.  0.  0.  0.  0.  0.  0.  0.  0.\n",
      "  89.  0.  0.  0.  0.  0.  0.  0.  0.  0.]\n",
      " [ 0.  0.  0.  0.  0.  0.  0.  0. 91.  0.  0.  0.  0.  0.  0.  0.  0.  0.\n",
      "  98.  0.  0.  0.  0.  0.  0.  0.  0.  0.]\n",
      " [ 0.  0.  0.  0.  0.  0.  0.  0. 98.  0.  0.  0.  0.  0.  0.  0.  0.  0.\n",
      "  79.  0.  0.  0.  0.  0.  0.  0.  0.  0.]\n",
      " [ 0.  0.  0.  0.  0.  0.  0.  0. 95.  0.  0.  0.  0.  0.  0.  0.  0.  0.\n",
      "  78.  0.  0.  0.  0.  0.  0.  0.  0.  0.]\n",
      " [ 0.  0.  0.  0.  0.  0.  0.  0. 80.  0.  0.  0.  0.  0.  0.  0.  0.  0.\n",
      "  92.  0.  0.  0.  0.  0.  0.  0.  0.  0.]\n",
      " [ 0.  0.  0.  0.  0.  0.  0.  0. 88.  0.  0.  0.  0.  0.  0.  0.  0.  0.\n",
      "  75.  0.  0.  0.  0.  0.  0.  0.  0.  0.]\n",
      " [ 0.  0.  0.  0.  0.  0.  0.  0. 76.  0.  0.  0.  0.  0.  0.  0.  0.  0.\n",
      "  92.  0.  0.  0.  0.  0.  0.  0.  0.  0.]\n",
      " [ 0.  0.  0.  0.  0.  0.  0.  0. 79.  0.  0.  0.  0.  0.  0.  0.  0.  0.\n",
      "  79.  0.  0.  0.  0.  0.  0.  0.  0.  0.]\n",
      " [ 0.  0.  0.  0.  0.  0.  0.  0. 78.  0.  0.  0.  0.  0.  0.  0.  0.  0.\n",
      "  96.  0.  0.  0.  0.  0.  0.  0.  0.  0.]\n",
      " [ 0.  0.  0.  0.  0.  0.  0.  0. 92. 78. 92. 73. 85. 81. 88. 94. 80. 78.\n",
      "  72.  0.  0.  0.  0.  0.  0.  0.  0.  0.]\n",
      " [ 0.  0.  0.  0.  0.  0.  0.  0.  0.  0.  0.  0.  0.  0.  0.  0.  0.  0.\n",
      "   0.  0.  0.  0.  0.  0.  0.  0.  0.  0.]\n",
      " [ 0.  0.  0.  0.  0.  0.  0.  0.  0.  0.  0.  0.  0.  0.  0.  0.  0.  0.\n",
      "   0.  0.  0.  0.  0.  0.  0.  0.  0.  0.]\n",
      " [ 0.  0.  0.  0.  0.  0.  0.  0.  0.  0.  0.  0.  0.  0.  0.  0.  0.  0.\n",
      "   0.  0.  0.  0.  0.  0.  0.  0.  0.  0.]\n",
      " [ 0.  0.  0.  0.  0.  0.  0.  0.  0.  0.  0.  0.  0.  0.  0.  0.  0.  0.\n",
      "   0.  0.  0.  0.  0.  0.  0.  0.  0.  0.]\n",
      " [ 0.  0.  0.  0.  0.  0.  0.  0.  0.  0.  0.  0.  0.  0.  0.  0.  0.  0.\n",
      "   0.  0.  0.  0.  0.  0.  0.  0.  0.  0.]\n",
      " [ 0.  0.  0.  0.  0.  0.  0.  0.  0.  0.  0.  0.  0.  0.  0.  0.  0.  0.\n",
      "   0.  0.  0.  0.  0.  0.  0.  0.  0.  0.]\n",
      " [ 0.  0.  0.  0.  0.  0.  0.  0.  0.  0.  0.  0.  0.  0.  0.  0.  0.  0.\n",
      "   0.  0.  0.  0.  0.  0.  0.  0.  0.  0.]\n",
      " [ 0.  0.  0.  0.  0.  0.  0.  0.  0.  0.  0.  0.  0.  0.  0.  0.  0.  0.\n",
      "   0.  0.  0.  0.  0.  0.  0.  0.  0.  0.]\n",
      " [ 0.  0.  0.  0.  0.  0.  0.  0.  0.  0.  0.  0.  0.  0.  0.  0.  0.  0.\n",
      "   0.  0.  0.  0.  0.  0.  0.  0.  0.  0.]]\n"
     ]
    },
    {
     "data": {
      "text/plain": [
       "<matplotlib.image.AxesImage at 0x11b3273a0>"
      ]
     },
     "execution_count": 3,
     "metadata": {},
     "output_type": "execute_result"
    },
    {
     "data": {
      "image/png": "[encoded data removed]",
      "text/plain": [
       "<Figure size 720x432 with 1 Axes>"
      ]
     },
     "metadata": {
      "needs_background": "light"
     },
     "output_type": "display_data"
    }
   ],
   "source": [
    "img_not_one = np.zeros([28, 28]) \n",
    "img_not_one [ 8:18, 8:9] = 100 - np.random.randint(30, size=(10, 1))\n",
    "img_not_one [ 8:18, 18:19] = 100 - np.random.randint(30, size=(10, 1))\n",
    "img_not_one [ 8:9, 8:19] = 100 - np.random.randint(30, size=(1, 11))\n",
    "img_not_one [ 18:19, 8:19] = 100 - np.random.randint(30, size=(1, 11))\n",
    "print(img_not_one)\n",
    "plt.figure('object', figsize=(10,6))\n",
    "plt.imshow(img_not_one , cmap='gray')"
   ]
  },
  {
   "cell_type": "markdown",
   "id": "327e6dc1",
   "metadata": {},
   "source": [
    "### Images are unrealistic, we can perform Morphological Image Operation to provide more realistic images"
   ]
  },
  {
   "cell_type": "markdown",
   "id": "b07a0ca7",
   "metadata": {},
   "source": [
    "However morphological opening is defined in skimage module, we can performe that from scratch as erosion of dilation of image as define in \"Morphological Image Analysis\" Pierre Soile "
   ]
  },
  {
   "cell_type": "markdown",
   "id": "ec9a4dc4",
   "metadata": {},
   "source": [
    "For structuring element B and set X, for:"
   ]
  },
  {
   "cell_type": "markdown",
   "id": "5806691a",
   "metadata": {},
   "source": [
    "Erosion define as:\n",
    "<br>\n",
    "$ \\large \\varepsilon_B(X) = { x | B_x \\subseteq X}  $"
   ]
  },
  {
   "cell_type": "markdown",
   "id": "f6dc1409",
   "metadata": {},
   "source": [
    "Dilation define as:\n",
    "<br>\n",
    "$ \\large \\delta_B(X) = { x | B_x \\cap X \\neq \\emptyset}  $"
   ]
  },
  {
   "cell_type": "markdown",
   "id": "246d1268",
   "metadata": {},
   "source": [
    "Closing of image f is defined as:\n",
    "<br>\n",
    "$ \\large  \\oslash_B(f) = \\varepsilon_{\\breve{B}}[\\delta_B(X)] $"
   ]
  },
  {
   "cell_type": "code",
   "execution_count": 4,
   "id": "b6067ae3",
   "metadata": {},
   "outputs": [
    {
     "data": {
      "text/plain": [
       "<matplotlib.image.AxesImage at 0x11d7b64c0>"
      ]
     },
     "execution_count": 4,
     "metadata": {},
     "output_type": "execute_result"
    },
    {
     "data": {
      "image/png": "[encoded data removed]",
      "text/plain": [
       "<Figure size 720x432 with 1 Axes>"
      ]
     },
     "metadata": {
      "needs_background": "light"
     },
     "output_type": "display_data"
    }
   ],
   "source": [
    "img_one = skimage.morphology.erosion(skimage.morphology.dilation(img_one))\n",
    "plt.figure('object', figsize=(10,6))\n",
    "plt.imshow(img_one , cmap='gray') "
   ]
  },
  {
   "cell_type": "code",
   "execution_count": 5,
   "id": "68f99242",
   "metadata": {},
   "outputs": [
    {
     "data": {
      "text/plain": [
       "<matplotlib.image.AxesImage at 0x11da08730>"
      ]
     },
     "execution_count": 5,
     "metadata": {},
     "output_type": "execute_result"
    },
    {
     "data": {
      "image/png": "[encoded data removed]",
      "text/plain": [
       "<Figure size 720x432 with 1 Axes>"
      ]
     },
     "metadata": {
      "needs_background": "light"
     },
     "output_type": "display_data"
    }
   ],
   "source": [
    "img_not_one = skimage.morphology.closing(img_not_one)\n",
    "plt.figure('object', figsize=(10,6))\n",
    "plt.imshow(img_not_one , cmap='gray') "
   ]
  },
  {
   "cell_type": "markdown",
   "id": "113ee3cb",
   "metadata": {},
   "source": [
    "## Needed Class"
   ]
  },
  {
   "cell_type": "code",
   "execution_count": 6,
   "id": "e4de9018",
   "metadata": {},
   "outputs": [],
   "source": [
    "class Test_Image:\n",
    "    def is_one(self):\n",
    "        #Image declaration\n",
    "        img_one = np.zeros([15, 15])\n",
    "        img_one = np.zeros([28, 28])\n",
    "        img_one[ 7:8, 12:16] = 90\n",
    "        img_one[ 8:9, 10:12] = 80 \n",
    "        img_one[ 9:10, 8:10] = 50 \n",
    "        img_one[ 6:17, 14:16] = 110 - np.random.randint(30, size=(11, 2))\n",
    "        # To make Image more realistic we performe erosion of dilation of image\n",
    "        img_one = skimage.morphology.erosion(skimage.morphology.dilation(img_one))\n",
    "        return img_one\n",
    "    def is_not_one(self):\n",
    "        # Image declaration\n",
    "        img_not_one = np.zeros([28, 28]) \n",
    "        img_not_one [ 8:18, 8:9] = 100 - np.random.randint(30, size=(10, 1))\n",
    "        img_not_one [ 8:18, 18:19] = 100 - np.random.randint(30, size=(10, 1))\n",
    "        img_not_one [ 8:9, 8:19] = 100 - np.random.randint(30, size=(1, 11))\n",
    "        img_not_one [ 18:19, 8:19] = 100 - np.random.randint(30, size=(1, 11))\n",
    "        # To make Image more realistic we performe erosion of dilation of image\n",
    "        img_not_one = skimage.morphology.closing(img_not_one)\n",
    "        return img_not_one"
   ]
  },
  {
   "cell_type": "markdown",
   "id": "8fc9a285",
   "metadata": {},
   "source": [
    "# Data Set"
   ]
  },
  {
   "cell_type": "markdown",
   "id": "9e88b59f",
   "metadata": {},
   "source": [
    "The MNIST (70000, 28 x 28) data set will be downloaded by TensorFlow.keras module, which provides us access to bigger data sets with higher quality data than sklearn.digits (1797, 8×8)"
   ]
  },
  {
   "cell_type": "code",
   "execution_count": 7,
   "id": "bfbe2220",
   "metadata": {},
   "outputs": [],
   "source": [
    "from tensorflow.keras.datasets import mnist\n",
    "from sklearn.model_selection import train_test_split"
   ]
  },
  {
   "cell_type": "markdown",
   "id": "a24452cb",
   "metadata": {},
   "source": [
    "Standard splitting for training and test data, what's more, necessary data reshape"
   ]
  },
  {
   "cell_type": "code",
   "execution_count": 8,
   "id": "a4a34258",
   "metadata": {},
   "outputs": [
    {
     "name": "stdout",
     "output_type": "stream",
     "text": [
      "(60000, 28, 28)\n",
      "(10000, 28, 28)\n"
     ]
    }
   ],
   "source": [
    "(X_train, y_train), (X_test, y_test) = mnist.load_data()\n",
    "print(X_train.shape)\n",
    "print(X_test.shape)\n",
    "X_train = X_train.reshape(60000, 784)\n",
    "X_test = X_test.reshape(10000, 784)"
   ]
  },
  {
   "cell_type": "markdown",
   "id": "8b6b9ab8",
   "metadata": {},
   "source": [
    "example of data set instance"
   ]
  },
  {
   "cell_type": "code",
   "execution_count": 9,
   "id": "50c3c17c",
   "metadata": {},
   "outputs": [
    {
     "data": {
      "text/plain": [
       "(-0.5, 27.5, 27.5, -0.5)"
      ]
     },
     "execution_count": 9,
     "metadata": {},
     "output_type": "execute_result"
    },
    {
     "data": {
      "image/png": "[encoded data removed]",
      "text/plain": [
       "<Figure size 432x288 with 1 Axes>"
      ]
     },
     "metadata": {
      "needs_background": "light"
     },
     "output_type": "display_data"
    }
   ],
   "source": [
    "plt.imshow(X_train[0].reshape(28,28), cmap='gray')\n",
    "plt.title(y_train[0])\n",
    "plt.axis('off')"
   ]
  },
  {
   "cell_type": "markdown",
   "id": "2b6e322a",
   "metadata": {},
   "source": [
    "# First Model"
   ]
  },
  {
   "cell_type": "markdown",
   "id": "e67a659e",
   "metadata": {},
   "source": [
    "As my first model I decided to choose, simple and basic Naive Bayes Classifier. To choose event model (distribution of features) first is needed to check data histogram"
   ]
  },
  {
   "cell_type": "code",
   "execution_count": 10,
   "id": "66685497",
   "metadata": {},
   "outputs": [
    {
     "data": {
      "text/plain": [
       "Text(0.5, 0, 'Label')"
      ]
     },
     "execution_count": 10,
     "metadata": {},
     "output_type": "execute_result"
    },
    {
     "data": {
      "image/png": "[encoded data removed]",
      "text/plain": [
       "<Figure size 432x288 with 1 Axes>"
      ]
     },
     "metadata": {
      "needs_background": "light"
     },
     "output_type": "display_data"
    }
   ],
   "source": [
    "plt.hist(y_train)\n",
    "plt.title('Data Histogram')\n",
    "plt.xlim([-1, 10])\n",
    "plt.xlabel(\"Label\")"
   ]
  },
  {
   "cell_type": "code",
   "execution_count": 11,
   "id": "d39ad769",
   "metadata": {},
   "outputs": [],
   "source": [
    "from sklearn.naive_bayes import ComplementNB\n",
    "Bayesian = ComplementNB()"
   ]
  },
  {
   "cell_type": "code",
   "execution_count": 12,
   "id": "082d3e77",
   "metadata": {},
   "outputs": [
    {
     "data": {
      "text/plain": [
       "ComplementNB()"
      ]
     },
     "execution_count": 12,
     "metadata": {},
     "output_type": "execute_result"
    }
   ],
   "source": [
    "Bayesian.fit(X_train, y_train)"
   ]
  },
  {
   "cell_type": "markdown",
   "id": "5ec3e26b",
   "metadata": {},
   "source": [
    "# Tests"
   ]
  },
  {
   "cell_type": "code",
   "execution_count": 13,
   "id": "8477ebe0",
   "metadata": {},
   "outputs": [
    {
     "name": "stdout",
     "output_type": "stream",
     "text": [
      "[1]\n"
     ]
    },
    {
     "data": {
      "image/png": "[encoded data removed]",
      "text/plain": [
       "<Figure size 432x288 with 1 Axes>"
      ]
     },
     "metadata": {
      "needs_background": "light"
     },
     "output_type": "display_data"
    }
   ],
   "source": [
    "plt.imshow(img_one, cmap='gray')\n",
    "plt.axis('off')\n",
    "y_pred = Bayesian.predict(img_one.reshape(784).reshape(1, -1))\n",
    "print(y_pred)"
   ]
  },
  {
   "cell_type": "markdown",
   "id": "877387c9",
   "metadata": {},
   "source": [
    "As we see our Bayes Classifier correctly classified \"1\""
   ]
  },
  {
   "cell_type": "code",
   "execution_count": 14,
   "id": "42381b30",
   "metadata": {},
   "outputs": [
    {
     "name": "stdout",
     "output_type": "stream",
     "text": [
      "[7]\n"
     ]
    },
    {
     "data": {
      "image/png": "[encoded data removed]",
      "text/plain": [
       "<Figure size 432x288 with 1 Axes>"
      ]
     },
     "metadata": {
      "needs_background": "light"
     },
     "output_type": "display_data"
    }
   ],
   "source": [
    "plt.imshow(img_not_one, cmap='gray')\n",
    "plt.axis('off')\n",
    "y_pred = Bayesian.predict(img_not_one.reshape(784).reshape(1, -1))\n",
    "print(y_pred)"
   ]
  },
  {
   "cell_type": "markdown",
   "id": "ca14cbf0",
   "metadata": {},
   "source": [
    "As we see our Bayes Classifier incorrectly classified \"0\""
   ]
  },
  {
   "cell_type": "markdown",
   "id": "da87f186",
   "metadata": {},
   "source": [
    "# References"
   ]
  },
  {
   "cell_type": "markdown",
   "id": "6a65cb57",
   "metadata": {},
   "source": [
    "Pierre Soile, Morphological Image Analysis\n",
    "Principles and Applications: https://link.springer.com/book/10.1007/978-3-662-03939-7"
   ]
  }
 ],
 "metadata": {
  "kernelspec": {
   "display_name": "Python 3",
   "language": "python",
   "name": "python3"
  },
  "language_info": {
   "codemirror_mode": {
    "name": "ipython",
    "version": 3
   },
   "file_extension": ".py",
   "mimetype": "text/x-python",
   "name": "python",
   "nbconvert_exporter": "python",
   "pygments_lexer": "ipython3",
   "version": "3.9.7"
  }
 },
 "nbformat": 4,
 "nbformat_minor": 5
}
