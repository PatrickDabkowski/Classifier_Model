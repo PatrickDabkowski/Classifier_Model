{
 "cells": [
  {
   "cell_type": "markdown",
   "id": "a202cde8",
   "metadata": {},
   "source": [
    "# Jupyter Notebook Visualisation"
   ]
  },
  {
   "cell_type": "markdown",
   "id": "7033e4cc",
   "metadata": {},
   "source": [
    "## Abstract"
   ]
  },
  {
   "cell_type": "code",
   "execution_count": null,
   "id": "a4671425",
   "metadata": {},
   "outputs": [],
   "source": []
  },
  {
   "cell_type": "markdown",
   "id": "19bb51b3",
   "metadata": {},
   "source": [
    "# Image Classifier and Test"
   ]
  },
  {
   "cell_type": "markdown",
   "id": "740e8fec",
   "metadata": {},
   "source": [
    "# Evaluation Images "
   ]
  },
  {
   "cell_type": "markdown",
   "id": "2161e470",
   "metadata": {},
   "source": [
    "### Importing needed tools"
   ]
  },
  {
   "cell_type": "code",
   "execution_count": 1,
   "id": "47f2e113",
   "metadata": {},
   "outputs": [],
   "source": [
    "import skimage\n",
    "import numpy as np\n",
    "import matplotlib.pyplot as plt"
   ]
  },
  {
   "cell_type": "markdown",
   "id": "6bad05a9",
   "metadata": {},
   "source": [
    "### Creating Test Images"
   ]
  },
  {
   "cell_type": "code",
   "execution_count": 2,
   "id": "cbb26ec3",
   "metadata": {},
   "outputs": [
    {
     "name": "stdout",
     "output_type": "stream",
     "text": [
      "[[  0.   0.   0.   0.   0.   0.   0.   0.   0.   0.   0.   0.   0.   0.\n",
      "    0.   0.   0.   0.   0.   0.   0.   0.   0.   0.   0.   0.   0.   0.]\n",
      " [  0.   0.   0.   0.   0.   0.   0.   0.   0.   0.   0.   0.   0.   0.\n",
      "    0.   0.   0.   0.   0.   0.   0.   0.   0.   0.   0.   0.   0.   0.]\n",
      " [  0.   0.   0.   0.   0.   0.   0.   0.   0.   0.   0.   0.   0.   0.\n",
      "    0.   0.   0.   0.   0.   0.   0.   0.   0.   0.   0.   0.   0.   0.]\n",
      " [  0.   0.   0.   0.   0.   0.   0.   0.   0.   0.   0.   0.   0.   0.\n",
      "    0.   0.   0.   0.   0.   0.   0.   0.   0.   0.   0.   0.   0.   0.]\n",
      " [  0.   0.   0.   0.   0.   0.   0.   0.   0.   0.   0.   0.   0.   0.\n",
      "    0.   0.   0.   0.   0.   0.   0.   0.   0.   0.   0.   0.   0.   0.]\n",
      " [  0.   0.   0.   0.   0.   0.   0.   0.   0.   0.   0.   0.   0.   0.\n",
      "    0.   0.   0.   0.   0.   0.   0.   0.   0.   0.   0.   0.   0.   0.]\n",
      " [  0.   0.   0.   0.   0.   0.   0.   0.   0.   0.   0.   0.   0.   0.\n",
      "   91.  94.   0.   0.   0.   0.   0.   0.   0.   0.   0.   0.   0.   0.]\n",
      " [  0.   0.   0.   0.   0.   0.   0.   0.   0.   0.   0.   0.  90.  90.\n",
      "   84.  98.   0.   0.   0.   0.   0.   0.   0.   0.   0.   0.   0.   0.]\n",
      " [  0.   0.   0.   0.   0.   0.   0.   0.   0.   0.  80.  80.   0.   0.\n",
      "   96. 108.   0.   0.   0.   0.   0.   0.   0.   0.   0.   0.   0.   0.]\n",
      " [  0.   0.   0.   0.   0.   0.   0.   0.  50.  50.   0.   0.   0.   0.\n",
      "   95.  93.   0.   0.   0.   0.   0.   0.   0.   0.   0.   0.   0.   0.]\n",
      " [  0.   0.   0.   0.   0.   0.   0.   0.   0.   0.   0.   0.   0.   0.\n",
      "   86. 104.   0.   0.   0.   0.   0.   0.   0.   0.   0.   0.   0.   0.]\n",
      " [  0.   0.   0.   0.   0.   0.   0.   0.   0.   0.   0.   0.   0.   0.\n",
      "   93.  94.   0.   0.   0.   0.   0.   0.   0.   0.   0.   0.   0.   0.]\n",
      " [  0.   0.   0.   0.   0.   0.   0.   0.   0.   0.   0.   0.   0.   0.\n",
      "   81. 105.   0.   0.   0.   0.   0.   0.   0.   0.   0.   0.   0.   0.]\n",
      " [  0.   0.   0.   0.   0.   0.   0.   0.   0.   0.   0.   0.   0.   0.\n",
      "  101.  82.   0.   0.   0.   0.   0.   0.   0.   0.   0.   0.   0.   0.]\n",
      " [  0.   0.   0.   0.   0.   0.   0.   0.   0.   0.   0.   0.   0.   0.\n",
      "   91.  96.   0.   0.   0.   0.   0.   0.   0.   0.   0.   0.   0.   0.]\n",
      " [  0.   0.   0.   0.   0.   0.   0.   0.   0.   0.   0.   0.   0.   0.\n",
      "  109. 100.   0.   0.   0.   0.   0.   0.   0.   0.   0.   0.   0.   0.]\n",
      " [  0.   0.   0.   0.   0.   0.   0.   0.   0.   0.   0.   0.   0.   0.\n",
      "  103.  99.   0.   0.   0.   0.   0.   0.   0.   0.   0.   0.   0.   0.]\n",
      " [  0.   0.   0.   0.   0.   0.   0.   0.   0.   0.   0.   0.   0.   0.\n",
      "    0.   0.   0.   0.   0.   0.   0.   0.   0.   0.   0.   0.   0.   0.]\n",
      " [  0.   0.   0.   0.   0.   0.   0.   0.   0.   0.   0.   0.   0.   0.\n",
      "    0.   0.   0.   0.   0.   0.   0.   0.   0.   0.   0.   0.   0.   0.]\n",
      " [  0.   0.   0.   0.   0.   0.   0.   0.   0.   0.   0.   0.   0.   0.\n",
      "    0.   0.   0.   0.   0.   0.   0.   0.   0.   0.   0.   0.   0.   0.]\n",
      " [  0.   0.   0.   0.   0.   0.   0.   0.   0.   0.   0.   0.   0.   0.\n",
      "    0.   0.   0.   0.   0.   0.   0.   0.   0.   0.   0.   0.   0.   0.]\n",
      " [  0.   0.   0.   0.   0.   0.   0.   0.   0.   0.   0.   0.   0.   0.\n",
      "    0.   0.   0.   0.   0.   0.   0.   0.   0.   0.   0.   0.   0.   0.]\n",
      " [  0.   0.   0.   0.   0.   0.   0.   0.   0.   0.   0.   0.   0.   0.\n",
      "    0.   0.   0.   0.   0.   0.   0.   0.   0.   0.   0.   0.   0.   0.]\n",
      " [  0.   0.   0.   0.   0.   0.   0.   0.   0.   0.   0.   0.   0.   0.\n",
      "    0.   0.   0.   0.   0.   0.   0.   0.   0.   0.   0.   0.   0.   0.]\n",
      " [  0.   0.   0.   0.   0.   0.   0.   0.   0.   0.   0.   0.   0.   0.\n",
      "    0.   0.   0.   0.   0.   0.   0.   0.   0.   0.   0.   0.   0.   0.]\n",
      " [  0.   0.   0.   0.   0.   0.   0.   0.   0.   0.   0.   0.   0.   0.\n",
      "    0.   0.   0.   0.   0.   0.   0.   0.   0.   0.   0.   0.   0.   0.]\n",
      " [  0.   0.   0.   0.   0.   0.   0.   0.   0.   0.   0.   0.   0.   0.\n",
      "    0.   0.   0.   0.   0.   0.   0.   0.   0.   0.   0.   0.   0.   0.]\n",
      " [  0.   0.   0.   0.   0.   0.   0.   0.   0.   0.   0.   0.   0.   0.\n",
      "    0.   0.   0.   0.   0.   0.   0.   0.   0.   0.   0.   0.   0.   0.]]\n"
     ]
    },
    {
     "data": {
      "text/plain": [
       "<matplotlib.image.AxesImage at 0x11b27a8e0>"
      ]
     },
     "execution_count": 2,
     "metadata": {},
     "output_type": "execute_result"
    },
    {
     "data": {
      "image/png": "[encoded data removed]",
      "text/plain": [
       "<Figure size 720x432 with 1 Axes>"
      ]
     },
     "metadata": {
      "needs_background": "light"
     },
     "output_type": "display_data"
    }
   ],
   "source": [
    "img_one = np.zeros([28, 28])\n",
    "img_one[ 7:8, 12:16] = 90\n",
    "img_one[ 8:9, 10:12] = 80 \n",
    "img_one[ 9:10, 8:10] = 50 \n",
    "img_one[ 6:17, 14:16] = 110 - np.random.randint(30, size=(11, 2))\n",
    "print(img_one)\n",
    "plt.figure('object', figsize=(10,6))\n",
    "plt.imshow(img_one, cmap='gray')"
   ]
  },
  {
   "cell_type": "code",
   "execution_count": 3,
   "id": "20f20bef",
   "metadata": {},
   "outputs": [
    {
     "name": "stdout",
     "output_type": "stream",
     "text": [
      "[[  0.   0.   0.   0.   0.   0.   0.   0.   0.   0.   0.   0.   0.   0.\n",
      "    0.   0.   0.   0.   0.   0.   0.   0.   0.   0.   0.   0.   0.   0.]\n",
      " [  0.   0.   0.   0.   0.   0.   0.   0.   0.   0.   0.   0.   0.   0.\n",
      "    0.   0.   0.   0.   0.   0.   0.   0.   0.   0.   0.   0.   0.   0.]\n",
      " [  0.   0.   0.   0.   0.   0.   0.   0.   0.   0.   0.   0.   0.   0.\n",
      "    0.   0.   0.   0.   0.   0.   0.   0.   0.   0.   0.   0.   0.   0.]\n",
      " [  0.   0.   0.   0.   0.   0.   0.   0.   0.   0.   0.   0.   0.   0.\n",
      "    0.   0.   0.   0.   0.   0.   0.   0.   0.   0.   0.   0.   0.   0.]\n",
      " [  0.   0.   0.   0.   0.   0.   0.   0.   0.   0.   0.   0.   0.   0.\n",
      "    0.   0.   0.   0.   0.   0.   0.   0.   0.   0.   0.   0.   0.   0.]\n",
      " [  0.   0.   0.   0.   0.   0.   0.   0.   0.   0.   0.   0.   0.   0.\n",
      "    0.   0.   0.   0.   0.   0.   0.   0.   0.   0.   0.   0.   0.   0.]\n",
      " [  0.   0.   0.   0.   0.   0.   0.   0.   0.   0.   0.   0.   0.   0.\n",
      "    0.   0.   0.   0.   0.   0.   0.   0.   0.   0.   0.   0.   0.   0.]\n",
      " [  0.   0.   0.   0.   0.   0.   0.   0.   0.   0.   0.   0.   0.   0.\n",
      "    0.   0.   0.   0.   0.   0.   0.   0.   0.   0.   0.   0.   0.   0.]\n",
      " [  0.   0.   0.   0.   0.   0.   0.   0.  93.  87.  78.  77.  81.  98.\n",
      "   93.  80.  92.  98.  90.   0.   0.   0.   0.   0.   0.   0.   0.   0.]\n",
      " [  0.   0.   0.   0.   0.   0.   0.   0. 100.   0.   0.   0.   0.   0.\n",
      "    0.   0.   0.   0.  73.   0.   0.   0.   0.   0.   0.   0.   0.   0.]\n",
      " [  0.   0.   0.   0.   0.   0.   0.   0.  78.   0.   0.   0.   0.   0.\n",
      "    0.   0.   0.   0.  76.   0.   0.   0.   0.   0.   0.   0.   0.   0.]\n",
      " [  0.   0.   0.   0.   0.   0.   0.   0.  92.   0.   0.   0.   0.   0.\n",
      "    0.   0.   0.   0.  99.   0.   0.   0.   0.   0.   0.   0.   0.   0.]\n",
      " [  0.   0.   0.   0.   0.   0.   0.   0.  77.   0.   0.   0.   0.   0.\n",
      "    0.   0.   0.   0.  82.   0.   0.   0.   0.   0.   0.   0.   0.   0.]\n",
      " [  0.   0.   0.   0.   0.   0.   0.   0.  73.   0.   0.   0.   0.   0.\n",
      "    0.   0.   0.   0.  80.   0.   0.   0.   0.   0.   0.   0.   0.   0.]\n",
      " [  0.   0.   0.   0.   0.   0.   0.   0.  98.   0.   0.   0.   0.   0.\n",
      "    0.   0.   0.   0.  74.   0.   0.   0.   0.   0.   0.   0.   0.   0.]\n",
      " [  0.   0.   0.   0.   0.   0.   0.   0.  84.   0.   0.   0.   0.   0.\n",
      "    0.   0.   0.   0.  96.   0.   0.   0.   0.   0.   0.   0.   0.   0.]\n",
      " [  0.   0.   0.   0.   0.   0.   0.   0.  80.   0.   0.   0.   0.   0.\n",
      "    0.   0.   0.   0.  98.   0.   0.   0.   0.   0.   0.   0.   0.   0.]\n",
      " [  0.   0.   0.   0.   0.   0.   0.   0.  96.   0.   0.   0.   0.   0.\n",
      "    0.   0.   0.   0.  96.   0.   0.   0.   0.   0.   0.   0.   0.   0.]\n",
      " [  0.   0.   0.   0.   0.   0.   0.   0.  74.  93.  97.  74.  84.  84.\n",
      "   81.  80.  79.  73.  72.   0.   0.   0.   0.   0.   0.   0.   0.   0.]\n",
      " [  0.   0.   0.   0.   0.   0.   0.   0.   0.   0.   0.   0.   0.   0.\n",
      "    0.   0.   0.   0.   0.   0.   0.   0.   0.   0.   0.   0.   0.   0.]\n",
      " [  0.   0.   0.   0.   0.   0.   0.   0.   0.   0.   0.   0.   0.   0.\n",
      "    0.   0.   0.   0.   0.   0.   0.   0.   0.   0.   0.   0.   0.   0.]\n",
      " [  0.   0.   0.   0.   0.   0.   0.   0.   0.   0.   0.   0.   0.   0.\n",
      "    0.   0.   0.   0.   0.   0.   0.   0.   0.   0.   0.   0.   0.   0.]\n",
      " [  0.   0.   0.   0.   0.   0.   0.   0.   0.   0.   0.   0.   0.   0.\n",
      "    0.   0.   0.   0.   0.   0.   0.   0.   0.   0.   0.   0.   0.   0.]\n",
      " [  0.   0.   0.   0.   0.   0.   0.   0.   0.   0.   0.   0.   0.   0.\n",
      "    0.   0.   0.   0.   0.   0.   0.   0.   0.   0.   0.   0.   0.   0.]\n",
      " [  0.   0.   0.   0.   0.   0.   0.   0.   0.   0.   0.   0.   0.   0.\n",
      "    0.   0.   0.   0.   0.   0.   0.   0.   0.   0.   0.   0.   0.   0.]\n",
      " [  0.   0.   0.   0.   0.   0.   0.   0.   0.   0.   0.   0.   0.   0.\n",
      "    0.   0.   0.   0.   0.   0.   0.   0.   0.   0.   0.   0.   0.   0.]\n",
      " [  0.   0.   0.   0.   0.   0.   0.   0.   0.   0.   0.   0.   0.   0.\n",
      "    0.   0.   0.   0.   0.   0.   0.   0.   0.   0.   0.   0.   0.   0.]\n",
      " [  0.   0.   0.   0.   0.   0.   0.   0.   0.   0.   0.   0.   0.   0.\n",
      "    0.   0.   0.   0.   0.   0.   0.   0.   0.   0.   0.   0.   0.   0.]]\n"
     ]
    },
    {
     "data": {
      "text/plain": [
       "<matplotlib.image.AxesImage at 0x11b80cdc0>"
      ]
     },
     "execution_count": 3,
     "metadata": {},
     "output_type": "execute_result"
    },
    {
     "data": {
      "image/png": "[encoded data removed]",
      "text/plain": [
       "<Figure size 720x432 with 1 Axes>"
      ]
     },
     "metadata": {
      "needs_background": "light"
     },
     "output_type": "display_data"
    }
   ],
   "source": [
    "img_not_one = np.zeros([28, 28]) \n",
    "img_not_one [ 8:18, 8:9] = 100 - np.random.randint(30, size=(10, 1))\n",
    "img_not_one [ 8:18, 18:19] = 100 - np.random.randint(30, size=(10, 1))\n",
    "img_not_one [ 8:9, 8:19] = 100 - np.random.randint(30, size=(1, 11))\n",
    "img_not_one [ 18:19, 8:19] = 100 - np.random.randint(30, size=(1, 11))\n",
    "print(img_not_one)\n",
    "plt.figure('object', figsize=(10,6))\n",
    "plt.imshow(img_not_one , cmap='gray')"
   ]
  },
  {
   "cell_type": "markdown",
   "id": "327e6dc1",
   "metadata": {},
   "source": [
    "### Images are unrealistic, we can perform Morphological Image Operation to provide more realistic images"
   ]
  },
  {
   "cell_type": "markdown",
   "id": "b07a0ca7",
   "metadata": {},
   "source": [
    "However morphological opening is defined in skimage module, we can perform that from scratch as erosion of dilation of image as define in \"Morphological Image Analysis\" Pierre Soile "
   ]
  },
  {
   "cell_type": "markdown",
   "id": "ec9a4dc4",
   "metadata": {},
   "source": [
    "For structuring element B and set X, for:"
   ]
  },
  {
   "cell_type": "markdown",
   "id": "5806691a",
   "metadata": {},
   "source": [
    "Erosion define as:\n",
    "<br>\n",
    "$ \\large \\varepsilon_B(X) = { x | B_x \\subseteq X}  $"
   ]
  },
  {
   "cell_type": "markdown",
   "id": "f6dc1409",
   "metadata": {},
   "source": [
    "Dilation define as:\n",
    "<br>\n",
    "$ \\large \\delta_B(X) = { x | B_x \\cap X \\neq \\emptyset}  $"
   ]
  },
  {
   "cell_type": "markdown",
   "id": "246d1268",
   "metadata": {},
   "source": [
    "Closing of image f is defined as:\n",
    "<br>\n",
    "$ \\large  \\oslash_B(f) = \\varepsilon_{\\breve{B}}[\\delta_B(X)] $"
   ]
  },
  {
   "cell_type": "code",
   "execution_count": 4,
   "id": "b6067ae3",
   "metadata": {},
   "outputs": [
    {
     "data": {
      "text/plain": [
       "<matplotlib.image.AxesImage at 0x11dd61d60>"
      ]
     },
     "execution_count": 4,
     "metadata": {},
     "output_type": "execute_result"
    },
    {
     "data": {
      "image/png": "[encoded data removed]",
      "text/plain": [
       "<Figure size 720x432 with 1 Axes>"
      ]
     },
     "metadata": {
      "needs_background": "light"
     },
     "output_type": "display_data"
    }
   ],
   "source": [
    "img_one = skimage.morphology.erosion(skimage.morphology.dilation(img_one))\n",
    "plt.figure('object', figsize=(10,6))\n",
    "plt.imshow(img_one , cmap='gray') "
   ]
  },
  {
   "cell_type": "code",
   "execution_count": 5,
   "id": "68f99242",
   "metadata": {},
   "outputs": [
    {
     "data": {
      "text/plain": [
       "<matplotlib.image.AxesImage at 0x11dea51f0>"
      ]
     },
     "execution_count": 5,
     "metadata": {},
     "output_type": "execute_result"
    },
    {
     "data": {
      "image/png": "[encoded data removed]",
      "text/plain": [
       "<Figure size 720x432 with 1 Axes>"
      ]
     },
     "metadata": {
      "needs_background": "light"
     },
     "output_type": "display_data"
    }
   ],
   "source": [
    "img_not_one = skimage.morphology.closing(img_not_one)\n",
    "plt.figure('object', figsize=(10,6))\n",
    "plt.imshow(img_not_one , cmap='gray') "
   ]
  },
  {
   "cell_type": "markdown",
   "id": "3d61a15b",
   "metadata": {},
   "source": [
    "## Image Augmentation"
   ]
  },
  {
   "cell_type": "markdown",
   "id": "d8a74573",
   "metadata": {},
   "source": [
    "Augmentation is the technique in machine learning helpful in overfitting reducing by using the amount of operation done on data. In image cases, the most popular are horizontal flips, random noises and colour inversions. \n",
    "<br> In our task we will use image augmentation only for the test task.\n",
    "<br> We will use only colour inversion function because we want our classifier to recognise images of all colours, however, we don't want to treat standard and flipped numbers as the same (except for \"0\", \"8\") "
   ]
  },
  {
   "cell_type": "code",
   "execution_count": 6,
   "id": "12646f30",
   "metadata": {},
   "outputs": [
    {
     "data": {
      "text/plain": [
       "<matplotlib.image.AxesImage at 0x11dff50a0>"
      ]
     },
     "execution_count": 6,
     "metadata": {},
     "output_type": "execute_result"
    },
    {
     "data": {
      "image/png": "[encoded data removed]",
      "text/plain": [
       "<Figure size 432x288 with 1 Axes>"
      ]
     },
     "metadata": {
      "needs_background": "light"
     },
     "output_type": "display_data"
    }
   ],
   "source": [
    "from skimage import util\n",
    "augmented = util.invert(img_one)\n",
    "plt.imshow(augmented, cmap='gray')"
   ]
  },
  {
   "cell_type": "markdown",
   "id": "113ee3cb",
   "metadata": {},
   "source": [
    "## Presented Class"
   ]
  },
  {
   "cell_type": "code",
   "execution_count": 7,
   "id": "e4de9018",
   "metadata": {},
   "outputs": [],
   "source": [
    "class Test_Image:\n",
    "    def __int__(self):\n",
    "        self.is_one = []\n",
    "        self.is_not_one = []\n",
    "        self.augmented_one = []\n",
    "        self.augmented_non_one = []\n",
    "    def is_one(self):\n",
    "        #Image declaration\n",
    "        img_one = np.zeros([28, 28])\n",
    "        img_one[ 7:8, 12:16] = 90\n",
    "        img_one[ 8:9, 10:12] = 80 \n",
    "        img_one[ 9:10, 8:10] = 50 \n",
    "        img_one[ 6:17, 14:16] = 110 - np.random.randint(30, size=(11, 2))\n",
    "        # To make Image more realistic we performe erosion of dilation of image\n",
    "        self.img_one = skimage.morphology.erosion(skimage.morphology.dilation(img_one))\n",
    "        return self.img_one\n",
    "    def is_not_one(self):\n",
    "        # Image declaration\n",
    "        img_not_one = np.zeros([28, 28]) \n",
    "        img_not_one [ 8:18, 8:9] = 100 - np.random.randint(30, size=(10, 1))\n",
    "        img_not_one [ 8:18, 18:19] = 100 - np.random.randint(30, size=(10, 1))\n",
    "        img_not_one [ 8:9, 8:19] = 100 - np.random.randint(30, size=(1, 11))\n",
    "        img_not_one [ 18:19, 8:19] = 100 - np.random.randint(30, size=(1, 11))\n",
    "        # To make Image more realistic we performe erosion of dilation of image\n",
    "        self.img_not_one = skimage.morphology.closing(img_not_one)\n",
    "        return self.img_not_one\n",
    "    def image_augmentation(self):\n",
    "        #Augmentation - Colour Inversion\n",
    "        self.augmented_one = util.invert(self.img_one)\n",
    "        self.augmented_non_one = util.invert(self.img_not_one)\n",
    "        return self.augmented_one, self.augmented_non_one"
   ]
  },
  {
   "cell_type": "markdown",
   "id": "8fc9a285",
   "metadata": {},
   "source": [
    "# Data Set"
   ]
  },
  {
   "cell_type": "markdown",
   "id": "9e88b59f",
   "metadata": {},
   "source": [
    "The MNIST (70000, 28 x 28) data set will be downloaded by TensorFlow.keras module, which provides us access to bigger data sets with higher quality data than sklearn.digits (1797, 8×8)"
   ]
  },
  {
   "cell_type": "code",
   "execution_count": 8,
   "id": "bfbe2220",
   "metadata": {},
   "outputs": [],
   "source": [
    "from tensorflow.keras.datasets import mnist\n",
    "from sklearn.model_selection import train_test_split"
   ]
  },
  {
   "cell_type": "markdown",
   "id": "a24452cb",
   "metadata": {},
   "source": [
    "Standard splitting for training and test data, what's more, necessary data reshape"
   ]
  },
  {
   "cell_type": "code",
   "execution_count": 9,
   "id": "a4a34258",
   "metadata": {},
   "outputs": [
    {
     "name": "stdout",
     "output_type": "stream",
     "text": [
      "(60000, 28, 28)\n",
      "(10000, 28, 28)\n"
     ]
    }
   ],
   "source": [
    "(X_train, y_train), (X_test, y_test) = mnist.load_data()\n",
    "print(X_train.shape)\n",
    "print(X_test.shape)\n",
    "X_train = X_train.reshape(60000, 784)\n",
    "X_test = X_test.reshape(10000, 784)"
   ]
  },
  {
   "cell_type": "markdown",
   "id": "8b6b9ab8",
   "metadata": {},
   "source": [
    "example of data set instance"
   ]
  },
  {
   "cell_type": "code",
   "execution_count": 10,
   "id": "50c3c17c",
   "metadata": {},
   "outputs": [
    {
     "data": {
      "text/plain": [
       "(-0.5, 27.5, 27.5, -0.5)"
      ]
     },
     "execution_count": 10,
     "metadata": {},
     "output_type": "execute_result"
    },
    {
     "data": {
      "image/png": "[encoded data removed]",
      "text/plain": [
       "<Figure size 432x288 with 1 Axes>"
      ]
     },
     "metadata": {
      "needs_background": "light"
     },
     "output_type": "display_data"
    }
   ],
   "source": [
    "plt.imshow(X_train[0].reshape(28,28), cmap='gray')\n",
    "plt.title(y_train[0])\n",
    "plt.axis('off')"
   ]
  },
  {
   "cell_type": "markdown",
   "id": "2b6e322a",
   "metadata": {},
   "source": [
    "# First Model - Naive Bayes Classifier"
   ]
  },
  {
   "cell_type": "markdown",
   "id": "7bf11300",
   "metadata": {},
   "source": [
    "Naive Bayes Classifier given by following formmula:"
   ]
  },
  {
   "cell_type": "markdown",
   "id": "9ffffe44",
   "metadata": {},
   "source": [
    "$ \\Large P(y|x_1, ..., x_n) =  \\frac{P(y)P(x_1,...,x_n|y)}{P(x_1,...,x_n)}$"
   ]
  },
  {
   "cell_type": "code",
   "execution_count": 11,
   "id": "66685497",
   "metadata": {},
   "outputs": [
    {
     "data": {
      "text/plain": [
       "Text(0.5, 0, 'Label')"
      ]
     },
     "execution_count": 11,
     "metadata": {},
     "output_type": "execute_result"
    },
    {
     "data": {
      "image/png": "[encoded data removed]",
      "text/plain": [
       "<Figure size 432x288 with 1 Axes>"
      ]
     },
     "metadata": {
      "needs_background": "light"
     },
     "output_type": "display_data"
    }
   ],
   "source": [
    "plt.hist(y_train)\n",
    "plt.title('Data Histogram')\n",
    "plt.xlim([-1, 10])\n",
    "plt.xlabel(\"Label\")"
   ]
  },
  {
   "cell_type": "code",
   "execution_count": 12,
   "id": "d39ad769",
   "metadata": {},
   "outputs": [],
   "source": [
    "from sklearn.naive_bayes import MultinomialNB \n",
    "Bayesian = MultinomialNB()"
   ]
  },
  {
   "cell_type": "code",
   "execution_count": 13,
   "id": "082d3e77",
   "metadata": {},
   "outputs": [
    {
     "data": {
      "text/plain": [
       "MultinomialNB()"
      ]
     },
     "execution_count": 13,
     "metadata": {},
     "output_type": "execute_result"
    }
   ],
   "source": [
    "Bayesian.fit(X_train, y_train)"
   ]
  },
  {
   "cell_type": "markdown",
   "id": "5ec3e26b",
   "metadata": {},
   "source": [
    "# Tests"
   ]
  },
  {
   "cell_type": "code",
   "execution_count": 14,
   "id": "8477ebe0",
   "metadata": {},
   "outputs": [
    {
     "name": "stdout",
     "output_type": "stream",
     "text": [
      "[1]\n"
     ]
    },
    {
     "data": {
      "image/png": "[encoded data removed]",
      "text/plain": [
       "<Figure size 432x288 with 1 Axes>"
      ]
     },
     "metadata": {
      "needs_background": "light"
     },
     "output_type": "display_data"
    }
   ],
   "source": [
    "plt.imshow(img_one, cmap='gray')\n",
    "plt.axis('off')\n",
    "y_pred = Bayesian.predict(img_one.reshape(784).reshape(1, -1))\n",
    "print(y_pred)"
   ]
  },
  {
   "cell_type": "markdown",
   "id": "877387c9",
   "metadata": {},
   "source": [
    "As we see our Bayes Classifier correctly classified \"1\""
   ]
  },
  {
   "cell_type": "code",
   "execution_count": 15,
   "id": "42381b30",
   "metadata": {},
   "outputs": [
    {
     "name": "stdout",
     "output_type": "stream",
     "text": [
      "[9]\n"
     ]
    },
    {
     "data": {
      "image/png": "[encoded data removed]",
      "text/plain": [
       "<Figure size 432x288 with 1 Axes>"
      ]
     },
     "metadata": {
      "needs_background": "light"
     },
     "output_type": "display_data"
    }
   ],
   "source": [
    "plt.imshow(img_not_one, cmap='gray')\n",
    "plt.axis('off')\n",
    "y_pred = Bayesian.predict(img_not_one.reshape(784).reshape(1, -1))\n",
    "print(y_pred)"
   ]
  },
  {
   "cell_type": "markdown",
   "id": "1d82ab8f",
   "metadata": {},
   "source": [
    "As we see our Bayes Classifier incorrectly classified \"0\""
   ]
  },
  {
   "cell_type": "code",
   "execution_count": 16,
   "id": "8c37270b",
   "metadata": {},
   "outputs": [],
   "source": [
    "test = Test_Image()\n",
    "img_1 = test.is_one()\n",
    "img_2 = test.is_not_one()\n",
    "aug_1, aug_0 = test.image_augmentation()"
   ]
  },
  {
   "cell_type": "code",
   "execution_count": 17,
   "id": "490ee9a1",
   "metadata": {},
   "outputs": [
    {
     "name": "stdout",
     "output_type": "stream",
     "text": [
      "[1]\n"
     ]
    },
    {
     "data": {
      "image/png": "[encoded data removed]",
      "text/plain": [
       "<Figure size 432x288 with 1 Axes>"
      ]
     },
     "metadata": {
      "needs_background": "light"
     },
     "output_type": "display_data"
    }
   ],
   "source": [
    "plt.imshow(aug_0, cmap='gray')\n",
    "plt.axis('off')\n",
    "y_pred = Bayesian.predict(aug_0.reshape(784).reshape(1, -1))\n",
    "print(y_pred)"
   ]
  },
  {
   "cell_type": "code",
   "execution_count": 18,
   "id": "d72c94fe",
   "metadata": {},
   "outputs": [
    {
     "name": "stdout",
     "output_type": "stream",
     "text": [
      "[0]\n"
     ]
    },
    {
     "data": {
      "image/png": "[encoded data removed]",
      "text/plain": [
       "<Figure size 432x288 with 1 Axes>"
      ]
     },
     "metadata": {
      "needs_background": "light"
     },
     "output_type": "display_data"
    }
   ],
   "source": [
    "plt.imshow(aug_1, cmap='gray')\n",
    "plt.axis('off')\n",
    "y_pred = Bayesian.predict(aug_1.reshape(784).reshape(1, -1))\n",
    "print(y_pred)"
   ]
  },
  {
   "cell_type": "markdown",
   "id": "084013cd",
   "metadata": {},
   "source": [
    "Here we can see that our classifier cannot correctly classify augmented (colour inversion) image"
   ]
  },
  {
   "cell_type": "markdown",
   "id": "3d2550e2",
   "metadata": {},
   "source": [
    "## Model I evaluation"
   ]
  },
  {
   "cell_type": "code",
   "execution_count": 19,
   "id": "61831571",
   "metadata": {},
   "outputs": [],
   "source": [
    "from sklearn.metrics import confusion_matrix\n",
    "results = confusion_matrix(y_test, Bayesian.predict(X_test))"
   ]
  },
  {
   "cell_type": "markdown",
   "id": "9e2af0b9",
   "metadata": {},
   "source": [
    "normalisation"
   ]
  },
  {
   "cell_type": "code",
   "execution_count": 20,
   "id": "973a8fd8",
   "metadata": {},
   "outputs": [],
   "source": [
    "rows = results.sum(axis=1, keepdims=True)\n",
    "results = results/rows"
   ]
  },
  {
   "cell_type": "markdown",
   "id": "c88c3828",
   "metadata": {},
   "source": [
    "removing diagonal part "
   ]
  },
  {
   "cell_type": "code",
   "execution_count": 21,
   "id": "df914ba7",
   "metadata": {},
   "outputs": [
    {
     "data": {
      "text/plain": [
       "<matplotlib.image.AxesImage at 0x14ed2b8b0>"
      ]
     },
     "execution_count": 21,
     "metadata": {},
     "output_type": "execute_result"
    },
    {
     "data": {
      "image/png": "[encoded data removed]",
      "text/plain": [
       "<Figure size 288x288 with 1 Axes>"
      ]
     },
     "metadata": {
      "needs_background": "light"
     },
     "output_type": "display_data"
    }
   ],
   "source": [
    "np.fill_diagonal(results, 0)\n",
    "plt.matshow(results, cmap='gray')"
   ]
  },
  {
   "cell_type": "code",
   "execution_count": 22,
   "id": "df241fdc",
   "metadata": {},
   "outputs": [
    {
     "name": "stdout",
     "output_type": "stream",
     "text": [
      "Accuracy: 83.65 %\n"
     ]
    }
   ],
   "source": [
    "from sklearn.metrics import accuracy_score\n",
    "print('Accuracy:', accuracy_score(y_test, Bayesian.predict(X_test))*100, '%')"
   ]
  },
  {
   "cell_type": "markdown",
   "id": "374b1a0a",
   "metadata": {},
   "source": [
    "We can assume our classifier is definitely not perfect and not satisfying, we can even realise that, our classifier is not able to correctly recognise 4 and 9and 5 with 3"
   ]
  },
  {
   "cell_type": "markdown",
   "id": "2939311c",
   "metadata": {},
   "source": [
    "However 83.65% accuracy seems not to be as that bad result"
   ]
  },
  {
   "cell_type": "markdown",
   "id": "7d5491d9",
   "metadata": {},
   "source": [
    "# Model II - Convolutional Neural Network"
   ]
  },
  {
   "cell_type": "code",
   "execution_count": 23,
   "id": "a9cfd420",
   "metadata": {},
   "outputs": [],
   "source": [
    "import tensorflow\n",
    "import tensorflow.keras \n",
    "import keras "
   ]
  },
  {
   "cell_type": "markdown",
   "id": "b34b55e5",
   "metadata": {},
   "source": [
    "The created model will be somehow \"inspired\" by AlexNet by Alex Krizhevsky, our Neural Network will start from the Fully Connected Layer next max-pooling layer and the sequence of the convolutional and max-pooling layer."
   ]
  },
  {
   "cell_type": "markdown",
   "id": "0d506e96",
   "metadata": {},
   "source": [
    "As a experimental setting we will start with incrising in time, very low (lower than usually dropout )"
   ]
  },
  {
   "cell_type": "code",
   "execution_count": 24,
   "id": "1adb68ef",
   "metadata": {},
   "outputs": [
    {
     "name": "stdout",
     "output_type": "stream",
     "text": [
      "X train shape: (60000, 28, 28)\n",
      "Y train shape: (60000,)\n",
      "Validation set crterion: 6000\n"
     ]
    }
   ],
   "source": [
    "(X_train, y_train), (X_test, y_test) = mnist.load_data()\n",
    "print('X train shape:', X_train.shape)\n",
    "print('Y train shape:', y_train.shape)\n",
    "crit = int(X_train.shape[0] * 0.1)\n",
    "print('Validation set crterion:', crit)\n",
    "X_train, X_valid = X_train[:-crit], X_train[-crit:]\n",
    "y_train, y_valid = y_train[:-crit], y_train[-crit:]"
   ]
  },
  {
   "cell_type": "markdown",
   "id": "3fc7eac9",
   "metadata": {},
   "source": [
    "### Early Stopping"
   ]
  },
  {
   "cell_type": "code",
   "execution_count": 25,
   "id": "f75dc87a",
   "metadata": {},
   "outputs": [],
   "source": [
    "early_stopping = tensorflow.keras.callbacks.EarlyStopping(monitor='val_loss', mode='min', verbose=1, patience=4)"
   ]
  },
  {
   "cell_type": "code",
   "execution_count": 26,
   "id": "adf3b911",
   "metadata": {
    "scrolled": false
   },
   "outputs": [
    {
     "name": "stderr",
     "output_type": "stream",
     "text": [
      "2022-07-22 15:25:22.670950: I tensorflow/core/platform/cpu_feature_guard.cc:151] This TensorFlow binary is optimized with oneAPI Deep Neural Network Library (oneDNN) to use the following CPU instructions in performance-critical operations:  AVX2 FMA\n",
      "To enable them in other operations, rebuild TensorFlow with the appropriate compiler flags.\n"
     ]
    },
    {
     "name": "stdout",
     "output_type": "stream",
     "text": [
      "Model: \"sequential\"\n",
      "_________________________________________________________________\n",
      " Layer (type)                Output Shape              Param #   \n",
      "=================================================================\n",
      " dense (Dense)               (None, 28, 28, 100)       200       \n",
      "                                                                 \n",
      " dropout (Dropout)           (None, 28, 28, 100)       0         \n",
      "                                                                 \n",
      " conv2d (Conv2D)             (None, 28, 28, 10)        36010     \n",
      "                                                                 \n",
      " conv2d_1 (Conv2D)           (None, 28, 28, 10)        2510      \n",
      "                                                                 \n",
      " dropout_1 (Dropout)         (None, 28, 28, 10)        0         \n",
      "                                                                 \n",
      " max_pooling2d (MaxPooling2D  (None, 27, 27, 10)       0         \n",
      " )                                                               \n",
      "                                                                 \n",
      " conv2d_2 (Conv2D)           (None, 27, 27, 20)        5020      \n",
      "                                                                 \n",
      " conv2d_3 (Conv2D)           (None, 27, 27, 20)        10020     \n",
      "                                                                 \n",
      " max_pooling2d_1 (MaxPooling  (None, 26, 26, 20)       0         \n",
      " 2D)                                                             \n",
      "                                                                 \n",
      " conv2d_4 (Conv2D)           (None, 26, 26, 40)        12840     \n",
      "                                                                 \n",
      " conv2d_5 (Conv2D)           (None, 26, 26, 40)        25640     \n",
      "                                                                 \n",
      " max_pooling2d_2 (MaxPooling  (None, 25, 25, 40)       0         \n",
      " 2D)                                                             \n",
      "                                                                 \n",
      " dropout_2 (Dropout)         (None, 25, 25, 40)        0         \n",
      "                                                                 \n",
      " conv2d_6 (Conv2D)           (None, 25, 25, 80)        28880     \n",
      "                                                                 \n",
      " conv2d_7 (Conv2D)           (None, 25, 25, 80)        57680     \n",
      "                                                                 \n",
      " max_pooling2d_3 (MaxPooling  (None, 24, 24, 80)       0         \n",
      " 2D)                                                             \n",
      "                                                                 \n",
      " dropout_3 (Dropout)         (None, 24, 24, 80)        0         \n",
      "                                                                 \n",
      " conv2d_8 (Conv2D)           (None, 24, 24, 160)       115360    \n",
      "                                                                 \n",
      " conv2d_9 (Conv2D)           (None, 24, 24, 160)       102560    \n",
      "                                                                 \n",
      " max_pooling2d_4 (MaxPooling  (None, 23, 23, 160)      0         \n",
      " 2D)                                                             \n",
      "                                                                 \n",
      " dense_1 (Dense)             (None, 23, 23, 60)        9660      \n",
      "                                                                 \n",
      " flatten (Flatten)           (None, 31740)             0         \n",
      "                                                                 \n",
      " dense_2 (Dense)             (None, 30)                952230    \n",
      "                                                                 \n",
      " dropout_4 (Dropout)         (None, 30)                0         \n",
      "                                                                 \n",
      " dense_3 (Dense)             (None, 10)                310       \n",
      "                                                                 \n",
      "=================================================================\n",
      "Total params: 1,358,920\n",
      "Trainable params: 1,358,920\n",
      "Non-trainable params: 0\n",
      "_________________________________________________________________\n"
     ]
    }
   ],
   "source": [
    "model = keras.models.Sequential([\n",
    "    keras.layers.Input(shape=[28, 28, 1]),\n",
    "    keras.layers.Dense(100, activation=tensorflow.keras.activations.relu),\n",
    "    keras.layers.Dropout(0.1),\n",
    "    keras.layers.Conv2D(10, 6, activation=tensorflow.keras.activations.relu, padding='SAME'),\n",
    "    keras.layers.Conv2D(10, 5, activation=tensorflow.keras.activations.relu,padding='SAME'),\n",
    "    keras.layers.Dropout(0.3),\n",
    "    keras.layers.MaxPooling2D(pool_size=(2, 2), strides=(1, 1), padding='VALID'),\n",
    "    keras.layers.Conv2D(20, 5, activation=tensorflow.keras.activations.relu, padding='SAME'),\n",
    "    keras.layers.Conv2D(20, 5, activation=tensorflow.keras.activations.relu,padding='SAME'),\n",
    "    keras.layers.MaxPooling2D(pool_size=(2, 2), strides=(1, 1), padding='valid'),\n",
    "    keras.layers.Conv2D(40, 4, activation=tensorflow.keras.activations.relu, padding='SAME'),\n",
    "    keras.layers.Conv2D(40, 4, activation=tensorflow.keras.activations.relu,padding='SAME'),\n",
    "    keras.layers.MaxPooling2D(pool_size=(2, 2), strides=(1, 1), padding='valid'),\n",
    "    keras.layers.Dropout(0.4),\n",
    "    keras.layers.Conv2D(80, 3, activation=tensorflow.keras.activations.relu, padding='SAME'),\n",
    "    keras.layers.Conv2D(80, 3, activation=tensorflow.keras.activations.relu,padding='SAME'),\n",
    "    keras.layers.MaxPooling2D(pool_size=(2, 2), strides=(1, 1), padding='valid'),\n",
    "    keras.layers.Dropout(0.5),\n",
    "    keras.layers.Conv2D(160, 3, activation=tensorflow.keras.activations.relu, padding='SAME'),\n",
    "    keras.layers.Conv2D(160, 2, activation=tensorflow.keras.activations.relu,padding='SAME'),\n",
    "    keras.layers.MaxPooling2D(pool_size=(2, 2), strides=(1, 1), padding='valid'),\n",
    "    keras.layers.Dense(60, tensorflow.keras.activations.relu),\n",
    "    keras.layers.Flatten(),\n",
    "    keras.layers.Dense(30, tensorflow.keras.activations.relu),\n",
    "    keras.layers.Dropout(0.5),\n",
    "    keras.layers.Dense(10, tensorflow.keras.activations.softmax)\n",
    "])\n",
    "model.compile(loss=\"sparse_categorical_crossentropy\", optimizer=\"nadam\", metrics=[\"accuracy\"])\n",
    "model.summary()"
   ]
  },
  {
   "cell_type": "markdown",
   "id": "1559b723",
   "metadata": {},
   "source": [
    "## Model Training"
   ]
  },
  {
   "cell_type": "markdown",
   "id": "c8eccb27",
   "metadata": {},
   "source": [
    "As we know model trarining can take huge amount of resources, because of that I decided to train my model at GPU with Google Colab and here, only load trained model, which is the same as model above"
   ]
  },
  {
   "cell_type": "code",
   "execution_count": 27,
   "id": "030d4714",
   "metadata": {},
   "outputs": [
    {
     "data": {
      "text/plain": [
       "\"\\nhistory = model.fit(X_train, y_train, validation_data=(X_valid, y_valid), epochs=20, callbacks=[early_stopping] )\\nmodel.save('Model.CNN')\""
      ]
     },
     "execution_count": 27,
     "metadata": {},
     "output_type": "execute_result"
    }
   ],
   "source": [
    "'''\n",
    "history = model.fit(X_train, y_train, validation_data=(X_valid, y_valid), epochs=20, callbacks=[early_stopping] )\n",
    "model.save('Model.CNN')'''"
   ]
  },
  {
   "cell_type": "code",
   "execution_count": 28,
   "id": "d4f65c8a",
   "metadata": {},
   "outputs": [],
   "source": [
    "model = keras.models.load_model('Model.CNN')"
   ]
  },
  {
   "cell_type": "markdown",
   "id": "356e6126",
   "metadata": {},
   "source": [
    "## Model Evaluation"
   ]
  },
  {
   "cell_type": "code",
   "execution_count": 29,
   "id": "32bc4405",
   "metadata": {},
   "outputs": [
    {
     "name": "stdout",
     "output_type": "stream",
     "text": [
      "313/313 [==============================] - 82s 261ms/step - loss: 0.0615 - accuracy: 0.9847\n"
     ]
    }
   ],
   "source": [
    "score = model.evaluate(X_test, y_test)"
   ]
  },
  {
   "cell_type": "markdown",
   "id": "212c519e",
   "metadata": {},
   "source": [
    "Accuracy of our Convolutional Model is 98.47% what in my opinion good result and we can test our model at test data."
   ]
  },
  {
   "cell_type": "markdown",
   "id": "1c6e1469",
   "metadata": {},
   "source": [
    "# Test"
   ]
  },
  {
   "cell_type": "markdown",
   "id": "205c8758",
   "metadata": {},
   "source": [
    "Our model was almost 100% sure about label"
   ]
  },
  {
   "cell_type": "code",
   "execution_count": 35,
   "id": "98bc66d3",
   "metadata": {},
   "outputs": [
    {
     "name": "stdout",
     "output_type": "stream",
     "text": [
      "[[1.1402054e-07 9.9957830e-01 3.6145971e-04 6.2801946e-06 3.5927769e-06\n",
      "  6.1299239e-08 1.0413911e-06 3.4850909e-05 6.6660377e-06 7.6410397e-06]]\n"
     ]
    },
    {
     "data": {
      "image/png": "[encoded data removed]",
      "text/plain": [
       "<Figure size 432x288 with 1 Axes>"
      ]
     },
     "metadata": {
      "needs_background": "light"
     },
     "output_type": "display_data"
    }
   ],
   "source": [
    "plt.imshow(img_one, cmap='gray')\n",
    "plt.axis('off')\n",
    "y_pred = model.predict(img_one.reshape([1, 28, 28]))\n",
    "print(y_pred)"
   ]
  },
  {
   "cell_type": "markdown",
   "id": "2099d955",
   "metadata": {},
   "source": [
    "Model is in 83.6% sure about \"0\" label"
   ]
  },
  {
   "cell_type": "code",
   "execution_count": 36,
   "id": "aaf5d6c8",
   "metadata": {},
   "outputs": [
    {
     "name": "stdout",
     "output_type": "stream",
     "text": [
      "[[0.8360763  0.02882322 0.02364549 0.00454202 0.00934357 0.00323052\n",
      "  0.02292424 0.00800825 0.04516688 0.01823949]]\n"
     ]
    },
    {
     "data": {
      "image/png": "[encoded data removed]",
      "text/plain": [
       "<Figure size 432x288 with 1 Axes>"
      ]
     },
     "metadata": {
      "needs_background": "light"
     },
     "output_type": "display_data"
    }
   ],
   "source": [
    "plt.imshow(img_not_one, cmap='gray')\n",
    "plt.axis('off')\n",
    "y_pred = model.predict(img_not_one.reshape([1, 28, 28]))\n",
    "print(y_pred)"
   ]
  },
  {
   "cell_type": "markdown",
   "id": "cad3c028",
   "metadata": {},
   "source": [
    "Model isn't really sure about label, however final result is \"9\""
   ]
  },
  {
   "cell_type": "code",
   "execution_count": 37,
   "id": "6c67b682",
   "metadata": {},
   "outputs": [
    {
     "name": "stdout",
     "output_type": "stream",
     "text": [
      "tf.Tensor(\n",
      "[[0.03149673 0.10092541 0.06100937 0.0290272  0.17388873 0.0354703\n",
      "  0.00391243 0.10673419 0.18623327 0.27130237]], shape=(1, 10), dtype=float32)\n"
     ]
    },
    {
     "data": {
      "image/png": "[encoded data removed]",
      "text/plain": [
       "<Figure size 432x288 with 1 Axes>"
      ]
     },
     "metadata": {
      "needs_background": "light"
     },
     "output_type": "display_data"
    }
   ],
   "source": [
    "plt.imshow(aug_0, cmap='gray')\n",
    "plt.axis('off')\n",
    "y_pred = model(aug_0.reshape([1, 28, 28]))\n",
    "print(y_pred)"
   ]
  },
  {
   "cell_type": "markdown",
   "id": "7eb8ff5a",
   "metadata": {},
   "source": [
    "Model didn't meet expectations and classifia our 1 as \"7\""
   ]
  },
  {
   "cell_type": "code",
   "execution_count": 39,
   "id": "7e72ada1",
   "metadata": {},
   "outputs": [
    {
     "name": "stdout",
     "output_type": "stream",
     "text": [
      "tf.Tensor(\n",
      "[[2.75764744e-08 2.75892913e-02 1.49393907e-06 1.70621062e-09\n",
      "  9.33068931e-01 9.58771551e-09 1.18763186e-04 9.07552385e-06\n",
      "  6.07279326e-05 3.91517170e-02]], shape=(1, 10), dtype=float32)\n"
     ]
    },
    {
     "data": {
      "image/png": "[encoded data removed]",
      "text/plain": [
       "<Figure size 432x288 with 1 Axes>"
      ]
     },
     "metadata": {
      "needs_background": "light"
     },
     "output_type": "display_data"
    }
   ],
   "source": [
    "plt.imshow(aug_1, cmap='gray')\n",
    "plt.axis('off')\n",
    "y_pred = model(aug_1.reshape([1, 28, 28]))\n",
    "print(y_pred)"
   ]
  },
  {
   "cell_type": "markdown",
   "id": "e734c999",
   "metadata": {},
   "source": [
    "# Results"
   ]
  },
  {
   "cell_type": "markdown",
   "id": "a7d3aab7",
   "metadata": {},
   "source": [
    "We created two models, one basic statistical approach and one convolutial neural approach, CNN is performing vast better, however cannot deal with augmented images.\n",
    "One idea for imporvment is creating new dataset with augmented pictures what supposed to cause insensitive for colours model"
   ]
  },
  {
   "cell_type": "markdown",
   "id": "da87f186",
   "metadata": {},
   "source": [
    "# References"
   ]
  },
  {
   "cell_type": "markdown",
   "id": "6a65cb57",
   "metadata": {},
   "source": [
    "Pierre Soile, Morphological Image Analysis\n",
    "Principles and Applications: https://link.springer.com/book/10.1007/978-3-662-03939-7"
   ]
  },
  {
   "cell_type": "markdown",
   "id": "859bb0c3",
   "metadata": {},
   "source": [
    "MNIST Dataset: http://yann.lecun.com/exdb/mnist/"
   ]
  },
  {
   "cell_type": "markdown",
   "id": "9dbc2efb",
   "metadata": {},
   "source": [
    "AlexNet by Alex Krizhevsky: https://scholar.google.com/citations?user=xegzhJcAAAAJ&hl=en"
   ]
  }
 ],
 "metadata": {
  "kernelspec": {
   "display_name": "Python 3 (ipykernel)",
   "language": "python",
   "name": "python3"
  },
  "language_info": {
   "codemirror_mode": {
    "name": "ipython",
    "version": 3
   },
   "file_extension": ".py",
   "mimetype": "text/x-python",
   "name": "python",
   "nbconvert_exporter": "python",
   "pygments_lexer": "ipython3",
   "version": "3.10.9"
  }
 },
 "nbformat": 4,
 "nbformat_minor": 5
}
