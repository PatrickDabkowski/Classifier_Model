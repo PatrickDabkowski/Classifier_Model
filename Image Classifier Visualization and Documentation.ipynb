{
 "cells": [
  {
   "cell_type": "markdown",
   "id": "a202cde8",
   "metadata": {},
   "source": [
    "# Jupyter Notebook Visualisation"
   ]
  },
  {
   "cell_type": "markdown",
   "id": "19bb51b3",
   "metadata": {},
   "source": [
    "# Image Classifier and Test"
   ]
  },
  {
   "cell_type": "markdown",
   "id": "740e8fec",
   "metadata": {},
   "source": [
    "# Evaluation Images "
   ]
  },
  {
   "cell_type": "markdown",
   "id": "2161e470",
   "metadata": {},
   "source": [
    "### Importing needed tools"
   ]
  },
  {
   "cell_type": "code",
   "execution_count": 1,
   "id": "47f2e113",
   "metadata": {},
   "outputs": [],
   "source": [
    "import skimage\n",
    "import numpy as np\n",
    "import matplotlib.pyplot as plt"
   ]
  },
  {
   "cell_type": "markdown",
   "id": "6bad05a9",
   "metadata": {},
   "source": [
    "### Creating Test Images"
   ]
  },
  {
   "cell_type": "code",
   "execution_count": 2,
   "id": "cbb26ec3",
   "metadata": {},
   "outputs": [
    {
     "name": "stdout",
     "output_type": "stream",
     "text": [
      "[[  0.   0.   0.   0.   0.   0.   0.   0.   0.   0.   0.   0.   0.   0.\n",
      "    0.]\n",
      " [  0.   0.   0.   0.   0.   0.   0.   0.   0.  85.  85.   0.   0.   0.\n",
      "    0.]\n",
      " [  0.   0.   0.   0.   0.   0.   0.  90.  90.  89.  81.   0.   0.   0.\n",
      "    0.]\n",
      " [  0.   0.   0.   0.   0.  80.  80.   0.   0.  93.  96.   0.   0.   0.\n",
      "    0.]\n",
      " [  0.   0.   0.  50.  50.   0.   0.   0.   0. 106.  92.   0.   0.   0.\n",
      "    0.]\n",
      " [  0.   0.   0.   0.   0.   0.   0.   0.   0. 101.  91.   0.   0.   0.\n",
      "    0.]\n",
      " [  0.   0.   0.   0.   0.   0.   0.   0.   0.  87.  97.   0.   0.   0.\n",
      "    0.]\n",
      " [  0.   0.   0.   0.   0.   0.   0.   0.   0.  83.  88.   0.   0.   0.\n",
      "    0.]\n",
      " [  0.   0.   0.   0.   0.   0.   0.   0.   0.  94.  88.   0.   0.   0.\n",
      "    0.]\n",
      " [  0.   0.   0.   0.   0.   0.   0.   0.   0.  91. 100.   0.   0.   0.\n",
      "    0.]\n",
      " [  0.   0.   0.   0.   0.   0.   0.   0.   0. 106.  95.   0.   0.   0.\n",
      "    0.]\n",
      " [  0.   0.   0.   0.   0.   0.   0.   0.   0.  97.  97.   0.   0.   0.\n",
      "    0.]\n",
      " [  0.   0.   0.   0.   0.   0.   0.   0.   0.   0.   0.   0.   0.   0.\n",
      "    0.]\n",
      " [  0.   0.   0.   0.   0.   0.   0.   0.   0.   0.   0.   0.   0.   0.\n",
      "    0.]\n",
      " [  0.   0.   0.   0.   0.   0.   0.   0.   0.   0.   0.   0.   0.   0.\n",
      "    0.]]\n"
     ]
    },
    {
     "data": {
      "text/plain": [
       "<matplotlib.image.AxesImage at 0x11b81d3d0>"
      ]
     },
     "execution_count": 2,
     "metadata": {},
     "output_type": "execute_result"
    },
    {
     "data": {
      "image/png": "[encoded data removed]",
      "text/plain": [
       "<Figure size 720x432 with 1 Axes>"
      ]
     },
     "metadata": {
      "needs_background": "light"
     },
     "output_type": "display_data"
    }
   ],
   "source": [
    "img_one = np.zeros([15, 15])\n",
    "img_one[ 2:3, 7:11] = 90\n",
    "img_one[ 3:4, 5:7] = 80 \n",
    "img_one[ 4:5, 3:5] = 50 \n",
    "img_one[ 1:12, 9:11] = 110 - np.random.randint(30, size=(11, 2))\n",
    "print(img_one)\n",
    "plt.figure('object', figsize=(10,6))\n",
    "plt.imshow(img_one, cmap='gray')"
   ]
  },
  {
   "cell_type": "code",
   "execution_count": 3,
   "id": "20f20bef",
   "metadata": {},
   "outputs": [
    {
     "name": "stdout",
     "output_type": "stream",
     "text": [
      "[[  0.   0.   0.   0.   0.   0.   0.   0.   0.   0.   0.   0.   0.   0.\n",
      "    0.]\n",
      " [  0.   0.   0.   0.   0.   0.   0.   0.   0.   0.   0.   0.   0.   0.\n",
      "    0.]\n",
      " [  0.   0.  85.  77.  97.  95.  94.  90.  88.  96.  91.  98.  98.   0.\n",
      "    0.]\n",
      " [  0.   0.  79.   0.   0.   0.   0.   0.   0.   0.   0.   0.  81.   0.\n",
      "    0.]\n",
      " [  0.   0. 100.   0.   0.   0.   0.   0.   0.   0.   0.   0.  86.   0.\n",
      "    0.]\n",
      " [  0.   0.  80.   0.   0.   0.   0.   0.   0.   0.   0.   0.  93.   0.\n",
      "    0.]\n",
      " [  0.   0.  85.   0.   0.   0.   0.   0.   0.   0.   0.   0. 100.   0.\n",
      "    0.]\n",
      " [  0.   0.  89.   0.   0.   0.   0.   0.   0.   0.   0.   0.  86.   0.\n",
      "    0.]\n",
      " [  0.   0.  82.   0.   0.   0.   0.   0.   0.   0.   0.   0.  78.   0.\n",
      "    0.]\n",
      " [  0.   0.  82.   0.   0.   0.   0.   0.   0.   0.   0.   0.  99.   0.\n",
      "    0.]\n",
      " [  0.   0.  72.   0.   0.   0.   0.   0.   0.   0.   0.   0.  96.   0.\n",
      "    0.]\n",
      " [  0.   0.  84.   0.   0.   0.   0.   0.   0.   0.   0.   0.  90.   0.\n",
      "    0.]\n",
      " [  0.   0.  95.  88.  82.  90.  98.  95.  91.  84.  73.  97.  78.   0.\n",
      "    0.]\n",
      " [  0.   0.   0.   0.   0.   0.   0.   0.   0.   0.   0.   0.   0.   0.\n",
      "    0.]\n",
      " [  0.   0.   0.   0.   0.   0.   0.   0.   0.   0.   0.   0.   0.   0.\n",
      "    0.]]\n"
     ]
    },
    {
     "data": {
      "text/plain": [
       "<matplotlib.image.AxesImage at 0x11bda2fd0>"
      ]
     },
     "execution_count": 3,
     "metadata": {},
     "output_type": "execute_result"
    },
    {
     "data": {
      "image/png": "[encoded data removed]",
      "text/plain": [
       "<Figure size 720x432 with 1 Axes>"
      ]
     },
     "metadata": {
      "needs_background": "light"
     },
     "output_type": "display_data"
    }
   ],
   "source": [
    "img_not_one = np.zeros([15, 15]) \n",
    "img_not_one [ 2:12, 2:3] = 100 - np.random.randint(30, size=(10, 1))\n",
    "img_not_one [ 2:12, 12:13] = 100 - np.random.randint(30, size=(10, 1))\n",
    "img_not_one [ 2:3, 2:13] = 100 - np.random.randint(30, size=(1, 11))\n",
    "img_not_one [ 12:13, 2:13] = 100 - np.random.randint(30, size=(1, 11))\n",
    "print(img_not_one)\n",
    "plt.figure('object', figsize=(10,6))\n",
    "plt.imshow(img_not_one , cmap='gray')"
   ]
  },
  {
   "cell_type": "markdown",
   "id": "327e6dc1",
   "metadata": {},
   "source": [
    "### Images are unrealistic, we can perform Morphological Image Operation to provide more realistic images"
   ]
  },
  {
   "cell_type": "markdown",
   "id": "b07a0ca7",
   "metadata": {},
   "source": [
    "However morphological opening is defined in skimage module, we can performe that from scratch as erosion of dilation of image as define in \"Morphological Image Analysis\" Pierre Soile "
   ]
  },
  {
   "cell_type": "code",
   "execution_count": 4,
   "id": "b6067ae3",
   "metadata": {},
   "outputs": [
    {
     "data": {
      "text/plain": [
       "<matplotlib.image.AxesImage at 0x11e3415b0>"
      ]
     },
     "execution_count": 4,
     "metadata": {},
     "output_type": "execute_result"
    },
    {
     "data": {
      "image/png": "[encoded data removed]",
      "text/plain": [
       "<Figure size 720x432 with 1 Axes>"
      ]
     },
     "metadata": {
      "needs_background": "light"
     },
     "output_type": "display_data"
    }
   ],
   "source": [
    "img_one = skimage.morphology.erosion(skimage.morphology.dilation(img_one))\n",
    "plt.figure('object', figsize=(10,6))\n",
    "plt.imshow(img_one , cmap='gray') "
   ]
  },
  {
   "cell_type": "code",
   "execution_count": 5,
   "id": "68f99242",
   "metadata": {},
   "outputs": [
    {
     "data": {
      "text/plain": [
       "<matplotlib.image.AxesImage at 0x11e4a0280>"
      ]
     },
     "execution_count": 5,
     "metadata": {},
     "output_type": "execute_result"
    },
    {
     "data": {
      "image/png": "[encoded data removed]",
      "text/plain": [
       "<Figure size 720x432 with 1 Axes>"
      ]
     },
     "metadata": {
      "needs_background": "light"
     },
     "output_type": "display_data"
    }
   ],
   "source": [
    "img_not_one = skimage.morphology.closing(img_not_one)\n",
    "plt.figure('object', figsize=(10,6))\n",
    "plt.imshow(img_not_one , cmap='gray') "
   ]
  },
  {
   "cell_type": "markdown",
   "id": "113ee3cb",
   "metadata": {},
   "source": [
    "## Needed Class"
   ]
  },
  {
   "cell_type": "code",
   "execution_count": 7,
   "id": "e4de9018",
   "metadata": {},
   "outputs": [],
   "source": [
    "class Test_Image:\n",
    "    def is_one(self):\n",
    "        #Image declaration\n",
    "        img_one = np.zeros([15, 15])\n",
    "        img_one[2:3, 7:11] = 90\n",
    "        img_one[3:4, 5:7] = 80\n",
    "        img_one[4:5, 3:5] = 50\n",
    "        img_one[1:12, 9:11] = 110 - np.random.randint(30, size=(11, 2))\n",
    "        # To make Image more realistic we performe erosion of dilation of image\n",
    "        img_one = skimage.morphology.erosion(skimage.morphology.dilation(img_one))\n",
    "        return img_one\n",
    "    def is_not_one(self):\n",
    "        # Image declaration\n",
    "        img_not_one = np.zeros([15, 15])\n",
    "        img_not_one[2:12, 2:3] = 100 - np.random.randint(30, size=(10, 1))\n",
    "        img_not_one[2:12, 12:13] = 100 - np.random.randint(30, size=(10, 1))\n",
    "        img_not_one[2:3, 2:13] = 100 - np.random.randint(30, size=(1, 11))\n",
    "        img_not_one[12:13, 2:13] = 100 - np.random.randint(30, size=(1, 11))\n",
    "        # To make Image more realistic we performe erosion of dilation of image\n",
    "        img_not_one = skimage.morphology.closing(img_not_one)\n",
    "        return img_not_one"
   ]
  },
  {
   "cell_type": "code",
   "execution_count": null,
   "id": "5b25e82a",
   "metadata": {},
   "outputs": [],
   "source": []
  }
 ],
 "metadata": {
  "kernelspec": {
   "display_name": "Python 3",
   "language": "python",
   "name": "python3"
  },
  "language_info": {
   "codemirror_mode": {
    "name": "ipython",
    "version": 3
   },
   "file_extension": ".py",
   "mimetype": "text/x-python",
   "name": "python",
   "nbconvert_exporter": "python",
   "pygments_lexer": "ipython3",
   "version": "3.9.7"
  }
 },
 "nbformat": 4,
 "nbformat_minor": 5
}
